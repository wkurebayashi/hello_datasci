{
 "cells": [
  {
   "cell_type": "markdown",
   "metadata": {},
   "source": [
    "# データサイエンスへの招待 (9)\n",
    "\n",
    "## 1. プログラミング基礎: 変数、代入、繰り返し"
   ]
  },
  {
   "cell_type": "code",
   "execution_count": 1,
   "metadata": {},
   "outputs": [],
   "source": [
    "# 変数は値を記録しておく箱のようなもの\n",
    "# ＝記号を使って変数に値を入れる、これを「代入」という\n",
    "a = 1\n",
    "b = 2.3\n",
    "c = 'Hello'"
   ]
  },
  {
   "cell_type": "code",
   "execution_count": 2,
   "metadata": {},
   "outputs": [
    {
     "name": "stdout",
     "output_type": "stream",
     "text": [
      "Hello\n"
     ]
    }
   ],
   "source": [
    "# 表示にはprint関数を使う\n",
    "print('Hello')"
   ]
  },
  {
   "cell_type": "code",
   "execution_count": 3,
   "metadata": {},
   "outputs": [
    {
     "name": "stdout",
     "output_type": "stream",
     "text": [
      "1 2.3 Hello\n"
     ]
    }
   ],
   "source": [
    "# print関数を使えば、変数の値を表示できる\n",
    "print(a, b, c)"
   ]
  },
  {
   "cell_type": "code",
   "execution_count": 4,
   "metadata": {},
   "outputs": [
    {
     "name": "stdout",
     "output_type": "stream",
     "text": [
      "a: 1, b: 2.3, c: Hello\n"
     ]
    }
   ],
   "source": [
    "# print関数は次のような使い方もできる\n",
    "print(f'a: {a}, b: {b}, c: {c}')"
   ]
  },
  {
   "cell_type": "code",
   "execution_count": 5,
   "metadata": {},
   "outputs": [
    {
     "name": "stdout",
     "output_type": "stream",
     "text": [
      "Hello\n",
      "Good Bye\n",
      "Hello\n",
      "Good Bye\n",
      "Hello\n",
      "Good Bye\n"
     ]
    }
   ],
   "source": [
    "# 処理を繰り返すにはfor文を使う\n",
    "# 以下のように書けば、インデントした部分が3回繰り返される\n",
    "for i in range(3):\n",
    "    print('Hello')\n",
    "    print('Good Bye')"
   ]
  },
  {
   "cell_type": "markdown",
   "metadata": {},
   "source": [
    "## 2. 平均の信頼区間を推定する"
   ]
  },
  {
   "cell_type": "code",
   "execution_count": 6,
   "metadata": {},
   "outputs": [],
   "source": [
    "# ライブラリの読み込み\n",
    "import numpy as np\n",
    "from scipy.stats import norm"
   ]
  },
  {
   "cell_type": "code",
   "execution_count": 7,
   "metadata": {},
   "outputs": [],
   "source": [
    "# 母集団の平均、標準偏差\n",
    "mu = 0\n",
    "sigma = 1\n",
    "\n",
    "# 標本サイズ\n",
    "N = 30"
   ]
  },
  {
   "cell_type": "code",
   "execution_count": 8,
   "metadata": {},
   "outputs": [
    {
     "name": "stdout",
     "output_type": "stream",
     "text": [
      "-0.47331720383204395 0.24237360464137309\n",
      "-0.37787553862529716 0.3378152698481199\n",
      "-0.5385475110240834 0.17714329744933363\n",
      "-0.39441701851732225 0.3212737899560948\n",
      "-0.3880416216960468 0.32764918677737026\n",
      "-0.6465172106445221 0.06917359782889504\n",
      "-0.38832885521907656 0.3273619532543405\n",
      "-0.44025057055498157 0.27544023791843547\n",
      "-0.16578196442514678 0.5499088440482702\n",
      "-0.6047777590402311 0.11091304943318595\n",
      "-0.6045471492007719 0.1111436592726451\n",
      "-0.31475832382392965 0.4009324846494874\n",
      "-0.3401573776778247 0.3755334307955923\n",
      "0.012921892077879193 0.7286127005512962\n",
      "-0.5599483854651319 0.15574242300828514\n",
      "-0.6398050885452345 0.0758857199281825\n",
      "-0.5292800648805168 0.18641074359290025\n",
      "-0.041377802389822194 0.6743130060835949\n",
      "-0.7384583810882366 -0.022767572614819487\n",
      "-0.299241722978797 0.41644908549462006\n"
     ]
    }
   ],
   "source": [
    "for i in range(20):\n",
    "    x = norm.rvs(loc=0, scale=sigma, size=N) # 乱数生成\n",
    "    mu_hat = np.mean(x) # 平均を計算\n",
    "    print(mu_hat - 1.96*np.sqrt(sigma/N), mu_hat + 1.96*np.sqrt(sigma/N)) # 信頼区間を表示"
   ]
  },
  {
   "cell_type": "markdown",
   "metadata": {},
   "source": [
    "## 3. 比率の信頼区間を推定する"
   ]
  },
  {
   "cell_type": "code",
   "execution_count": 10,
   "metadata": {},
   "outputs": [],
   "source": [
    "# ライブラリの読み込み\n",
    "import numpy as np\n",
    "from scipy.stats import bernoulli"
   ]
  },
  {
   "cell_type": "code",
   "execution_count": 11,
   "metadata": {},
   "outputs": [],
   "source": [
    "# 比率を決める\n",
    "p = 0.3\n",
    "# 標本サイズを決める\n",
    "N = 30"
   ]
  },
  {
   "cell_type": "code",
   "execution_count": 12,
   "metadata": {},
   "outputs": [
    {
     "name": "stdout",
     "output_type": "stream",
     "text": [
      "0.1646433920318547 0.5020232746348119\n",
      "0.056861838305316575 0.3431381616946835\n",
      "0.08198169469496736 0.3846849719716993\n",
      "0.19422296678282158 0.5391103665505117\n",
      "0.2560081873235037 0.610658479343163\n",
      "0.19422296678282158 0.5391103665505117\n",
      "0.19422296678282158 0.5391103665505117\n",
      "0.056861838305316575 0.3431381616946835\n",
      "0.1360146347993212 0.4639853652006788\n",
      "0.1360146347993212 0.4639853652006788\n",
      "0.1360146347993212 0.4639853652006788\n",
      "0.08198169469496736 0.3846849719716993\n",
      "0.1360146347993212 0.4639853652006788\n",
      "0.10842147482583778 0.4249118585074956\n",
      "-0.00735362127101255 0.20735362127101256\n",
      "0.1360146347993212 0.4639853652006788\n",
      "0.10842147482583778 0.4249118585074956\n",
      "0.056861838305316575 0.3431381616946835\n",
      "0.03330555844847141 0.3000277748848619\n",
      "0.1646433920318547 0.5020232746348119\n"
     ]
    }
   ],
   "source": [
    "for i in range(20):\n",
    "    x = bernoulli.rvs(p=p, size=N) # 0か1の乱数を生成\n",
    "    p_hat = np.mean(x) # 比率を計算\n",
    "    print(p_hat - 1.96*np.sqrt(p_hat*(1-p_hat)/N), p_hat + 1.96*np.sqrt(p_hat*(1-p_hat)/N)) # 信頼区間"
   ]
  },
  {
   "cell_type": "code",
   "execution_count": null,
   "metadata": {},
   "outputs": [],
   "source": []
  }
 ],
 "metadata": {
  "kernelspec": {
   "display_name": "Python 3",
   "language": "python",
   "name": "python3"
  },
  "language_info": {
   "codemirror_mode": {
    "name": "ipython",
    "version": 3
   },
   "file_extension": ".py",
   "mimetype": "text/x-python",
   "name": "python",
   "nbconvert_exporter": "python",
   "pygments_lexer": "ipython3",
   "version": "3.8.5"
  }
 },
 "nbformat": 4,
 "nbformat_minor": 4
}
