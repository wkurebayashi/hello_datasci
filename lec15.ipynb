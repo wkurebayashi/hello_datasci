{
  "nbformat": 4,
  "nbformat_minor": 0,
  "metadata": {
    "colab": {
      "name": "lec15.ipynb",
      "provenance": []
    },
    "kernelspec": {
      "name": "python3",
      "display_name": "Python 3"
    }
  },
  "cells": [
    {
      "cell_type": "markdown",
      "metadata": {
        "id": "jYHY_2-ncm7q"
      },
      "source": [
        "# データ分析演習(2)\n",
        "\n",
        "まず、基本的なライブラリを読み込む。"
      ]
    },
    {
      "cell_type": "code",
      "metadata": {
        "id": "05HYaX12eUJn"
      },
      "source": [
        "import pandas as pd\n",
        "import matplotlib.pyplot as plt\n",
        "%matplotlib inline\n",
        "import statsmodels.api as sm"
      ],
      "execution_count": 12,
      "outputs": []
    },
    {
      "cell_type": "markdown",
      "metadata": {
        "id": "pcpe1WZ2dfyS"
      },
      "source": [
        "## 1. 職業の社会的地位はどのような要因で決まるのか？\n",
        "\n",
        "データファイル \"prestige.csv\" を読み込み、最初の10行を表示する。"
      ]
    },
    {
      "cell_type": "code",
      "metadata": {
        "colab": {
          "base_uri": "https://localhost:8080/",
          "height": 348
        },
        "id": "LTl0ETZCcq3O",
        "outputId": "649c4d7d-e077-4c58-8df9-bb031fc87629"
      },
      "source": [
        "df = pd.read_csv('prestige.csv') # 読み込み\n",
        "df.head(10) # 表示"
      ],
      "execution_count": 13,
      "outputs": [
        {
          "output_type": "execute_result",
          "data": {
            "text/html": [
              "<div>\n",
              "<style scoped>\n",
              "    .dataframe tbody tr th:only-of-type {\n",
              "        vertical-align: middle;\n",
              "    }\n",
              "\n",
              "    .dataframe tbody tr th {\n",
              "        vertical-align: top;\n",
              "    }\n",
              "\n",
              "    .dataframe thead th {\n",
              "        text-align: right;\n",
              "    }\n",
              "</style>\n",
              "<table border=\"1\" class=\"dataframe\">\n",
              "  <thead>\n",
              "    <tr style=\"text-align: right;\">\n",
              "      <th></th>\n",
              "      <th>education</th>\n",
              "      <th>income</th>\n",
              "      <th>women</th>\n",
              "      <th>prestige</th>\n",
              "    </tr>\n",
              "  </thead>\n",
              "  <tbody>\n",
              "    <tr>\n",
              "      <th>0</th>\n",
              "      <td>13.11</td>\n",
              "      <td>12351</td>\n",
              "      <td>11.16</td>\n",
              "      <td>68.8</td>\n",
              "    </tr>\n",
              "    <tr>\n",
              "      <th>1</th>\n",
              "      <td>12.26</td>\n",
              "      <td>25879</td>\n",
              "      <td>4.02</td>\n",
              "      <td>69.1</td>\n",
              "    </tr>\n",
              "    <tr>\n",
              "      <th>2</th>\n",
              "      <td>12.77</td>\n",
              "      <td>9271</td>\n",
              "      <td>15.70</td>\n",
              "      <td>63.4</td>\n",
              "    </tr>\n",
              "    <tr>\n",
              "      <th>3</th>\n",
              "      <td>11.42</td>\n",
              "      <td>8865</td>\n",
              "      <td>9.11</td>\n",
              "      <td>56.8</td>\n",
              "    </tr>\n",
              "    <tr>\n",
              "      <th>4</th>\n",
              "      <td>14.62</td>\n",
              "      <td>8403</td>\n",
              "      <td>11.68</td>\n",
              "      <td>73.5</td>\n",
              "    </tr>\n",
              "    <tr>\n",
              "      <th>5</th>\n",
              "      <td>15.64</td>\n",
              "      <td>11030</td>\n",
              "      <td>5.13</td>\n",
              "      <td>77.6</td>\n",
              "    </tr>\n",
              "    <tr>\n",
              "      <th>6</th>\n",
              "      <td>15.09</td>\n",
              "      <td>8258</td>\n",
              "      <td>25.65</td>\n",
              "      <td>72.6</td>\n",
              "    </tr>\n",
              "    <tr>\n",
              "      <th>7</th>\n",
              "      <td>15.44</td>\n",
              "      <td>14163</td>\n",
              "      <td>2.69</td>\n",
              "      <td>78.1</td>\n",
              "    </tr>\n",
              "    <tr>\n",
              "      <th>8</th>\n",
              "      <td>14.52</td>\n",
              "      <td>11377</td>\n",
              "      <td>1.03</td>\n",
              "      <td>73.1</td>\n",
              "    </tr>\n",
              "    <tr>\n",
              "      <th>9</th>\n",
              "      <td>14.64</td>\n",
              "      <td>11023</td>\n",
              "      <td>0.94</td>\n",
              "      <td>68.8</td>\n",
              "    </tr>\n",
              "  </tbody>\n",
              "</table>\n",
              "</div>"
            ],
            "text/plain": [
              "   education  income  women  prestige\n",
              "0      13.11   12351  11.16      68.8\n",
              "1      12.26   25879   4.02      69.1\n",
              "2      12.77    9271  15.70      63.4\n",
              "3      11.42    8865   9.11      56.8\n",
              "4      14.62    8403  11.68      73.5\n",
              "5      15.64   11030   5.13      77.6\n",
              "6      15.09    8258  25.65      72.6\n",
              "7      15.44   14163   2.69      78.1\n",
              "8      14.52   11377   1.03      73.1\n",
              "9      14.64   11023   0.94      68.8"
            ]
          },
          "metadata": {
            "tags": []
          },
          "execution_count": 13
        }
      ]
    },
    {
      "cell_type": "markdown",
      "metadata": {
        "id": "CPUVWUUlfHCG"
      },
      "source": [
        "このデータは、各行がそれぞれ職業に対応し、4つの列 (education: 教育期間の平均、income: 収入額の平均、women: 女性比率、prestige: アンケート調査による社会的地位の高さ) を持つ。このデータを使い、第1〜3列を説明変数とし、第4列を目的変数として回帰分析を行えば、職業の社会的地位がどのような要因（教育期間、収入額、女性比率）から決まるかが分かるだろう。\n",
        "\n",
        "データを説明変数$X$と目的変数$y$に分け、説明変数$X$については列ごとに標準化し、\n",
        "一定の値をとる列を加える。"
      ]
    },
    {
      "cell_type": "code",
      "metadata": {
        "id": "s2xjLg5xctq6"
      },
      "source": [
        "X = df.drop('prestige', axis=1) # 第１２列を除去し説明変数とする\n",
        "X = (X - X.mean()) / X.std() # 標準化\n",
        "X = sm.add_constant(X) # 一定の値をとる列の追加\n",
        "y = df['prestige'] # 目的変数"
      ],
      "execution_count": 14,
      "outputs": []
    },
    {
      "cell_type": "markdown",
      "metadata": {
        "id": "knIW6jhYg9eJ"
      },
      "source": [
        "statsmodels ライブラリを使い、回帰分析を行う。"
      ]
    },
    {
      "cell_type": "code",
      "metadata": {
        "colab": {
          "base_uri": "https://localhost:8080/",
          "height": 485
        },
        "id": "s64uDKO-iKxS",
        "outputId": "0e4586b3-d0c2-4683-ceb6-fe796c44d4e5"
      },
      "source": [
        "regr = sm.OLS(y, X).fit() # 回帰係数の計算\n",
        "regr.summary() # 結果の表示"
      ],
      "execution_count": 15,
      "outputs": [
        {
          "output_type": "execute_result",
          "data": {
            "text/html": [
              "<table class=\"simpletable\">\n",
              "<caption>OLS Regression Results</caption>\n",
              "<tr>\n",
              "  <th>Dep. Variable:</th>        <td>prestige</td>     <th>  R-squared:         </th> <td>   0.798</td>\n",
              "</tr>\n",
              "<tr>\n",
              "  <th>Model:</th>                   <td>OLS</td>       <th>  Adj. R-squared:    </th> <td>   0.792</td>\n",
              "</tr>\n",
              "<tr>\n",
              "  <th>Method:</th>             <td>Least Squares</td>  <th>  F-statistic:       </th> <td>   129.2</td>\n",
              "</tr>\n",
              "<tr>\n",
              "  <th>Date:</th>             <td>Wed, 27 Jan 2021</td> <th>  Prob (F-statistic):</th> <td>6.26e-34</td>\n",
              "</tr>\n",
              "<tr>\n",
              "  <th>Time:</th>                 <td>07:35:51</td>     <th>  Log-Likelihood:    </th> <td> -352.82</td>\n",
              "</tr>\n",
              "<tr>\n",
              "  <th>No. Observations:</th>      <td>   102</td>      <th>  AIC:               </th> <td>   713.6</td>\n",
              "</tr>\n",
              "<tr>\n",
              "  <th>Df Residuals:</th>          <td>    98</td>      <th>  BIC:               </th> <td>   724.1</td>\n",
              "</tr>\n",
              "<tr>\n",
              "  <th>Df Model:</th>              <td>     3</td>      <th>                     </th>     <td> </td>   \n",
              "</tr>\n",
              "<tr>\n",
              "  <th>Covariance Type:</th>      <td>nonrobust</td>    <th>                     </th>     <td> </td>   \n",
              "</tr>\n",
              "</table>\n",
              "<table class=\"simpletable\">\n",
              "<tr>\n",
              "      <td></td>         <th>coef</th>     <th>std err</th>      <th>t</th>      <th>P>|t|</th>  <th>[0.025</th>    <th>0.975]</th>  \n",
              "</tr>\n",
              "<tr>\n",
              "  <th>const</th>     <td>   46.8333</td> <td>    0.777</td> <td>   60.281</td> <td> 0.000</td> <td>   45.292</td> <td>   48.375</td>\n",
              "</tr>\n",
              "<tr>\n",
              "  <th>education</th> <td>   11.4230</td> <td>    1.061</td> <td>   10.771</td> <td> 0.000</td> <td>    9.318</td> <td>   13.528</td>\n",
              "</tr>\n",
              "<tr>\n",
              "  <th>income</th>    <td>    5.5773</td> <td>    1.179</td> <td>    4.729</td> <td> 0.000</td> <td>    3.237</td> <td>    7.918</td>\n",
              "</tr>\n",
              "<tr>\n",
              "  <th>women</th>     <td>   -0.2825</td> <td>    0.965</td> <td>   -0.293</td> <td> 0.770</td> <td>   -2.197</td> <td>    1.632</td>\n",
              "</tr>\n",
              "</table>\n",
              "<table class=\"simpletable\">\n",
              "<tr>\n",
              "  <th>Omnibus:</th>       <td> 0.271</td> <th>  Durbin-Watson:     </th> <td>   1.687</td>\n",
              "</tr>\n",
              "<tr>\n",
              "  <th>Prob(Omnibus):</th> <td> 0.873</td> <th>  Jarque-Bera (JB):  </th> <td>   0.436</td>\n",
              "</tr>\n",
              "<tr>\n",
              "  <th>Skew:</th>          <td>-0.085</td> <th>  Prob(JB):          </th> <td>   0.804</td>\n",
              "</tr>\n",
              "<tr>\n",
              "  <th>Kurtosis:</th>      <td> 2.729</td> <th>  Cond. No.          </th> <td>    2.65</td>\n",
              "</tr>\n",
              "</table><br/><br/>Warnings:<br/>[1] Standard Errors assume that the covariance matrix of the errors is correctly specified."
            ],
            "text/plain": [
              "<class 'statsmodels.iolib.summary.Summary'>\n",
              "\"\"\"\n",
              "                            OLS Regression Results                            \n",
              "==============================================================================\n",
              "Dep. Variable:               prestige   R-squared:                       0.798\n",
              "Model:                            OLS   Adj. R-squared:                  0.792\n",
              "Method:                 Least Squares   F-statistic:                     129.2\n",
              "Date:                Wed, 27 Jan 2021   Prob (F-statistic):           6.26e-34\n",
              "Time:                        07:35:51   Log-Likelihood:                -352.82\n",
              "No. Observations:                 102   AIC:                             713.6\n",
              "Df Residuals:                      98   BIC:                             724.1\n",
              "Df Model:                           3                                         \n",
              "Covariance Type:            nonrobust                                         \n",
              "==============================================================================\n",
              "                 coef    std err          t      P>|t|      [0.025      0.975]\n",
              "------------------------------------------------------------------------------\n",
              "const         46.8333      0.777     60.281      0.000      45.292      48.375\n",
              "education     11.4230      1.061     10.771      0.000       9.318      13.528\n",
              "income         5.5773      1.179      4.729      0.000       3.237       7.918\n",
              "women         -0.2825      0.965     -0.293      0.770      -2.197       1.632\n",
              "==============================================================================\n",
              "Omnibus:                        0.271   Durbin-Watson:                   1.687\n",
              "Prob(Omnibus):                  0.873   Jarque-Bera (JB):                0.436\n",
              "Skew:                          -0.085   Prob(JB):                        0.804\n",
              "Kurtosis:                       2.729   Cond. No.                         2.65\n",
              "==============================================================================\n",
              "\n",
              "Warnings:\n",
              "[1] Standard Errors assume that the covariance matrix of the errors is correctly specified.\n",
              "\"\"\""
            ]
          },
          "metadata": {
            "tags": []
          },
          "execution_count": 15
        }
      ]
    },
    {
      "cell_type": "markdown",
      "metadata": {
        "id": "PE7IF_2njuQz"
      },
      "source": [
        "（ここに考察を書きます）"
      ]
    },
    {
      "cell_type": "markdown",
      "metadata": {
        "id": "7FL44sHAcl-9"
      },
      "source": [
        "## 2. ワインの品質はどのような要因で決まるのか？\n",
        "\n",
        "データファイル \"winequality-red.csv\" を読み込み、最初の10行を表示する。"
      ]
    },
    {
      "cell_type": "code",
      "metadata": {
        "colab": {
          "base_uri": "https://localhost:8080/",
          "height": 365
        },
        "id": "MCNfr9OaiK14",
        "outputId": "466ba4c5-2fb1-4deb-8b01-fb9a88d98631"
      },
      "source": [
        "df = pd.read_csv('winequality-red.csv') # 読み込み\n",
        "df.head(10) # 表示"
      ],
      "execution_count": 16,
      "outputs": [
        {
          "output_type": "execute_result",
          "data": {
            "text/html": [
              "<div>\n",
              "<style scoped>\n",
              "    .dataframe tbody tr th:only-of-type {\n",
              "        vertical-align: middle;\n",
              "    }\n",
              "\n",
              "    .dataframe tbody tr th {\n",
              "        vertical-align: top;\n",
              "    }\n",
              "\n",
              "    .dataframe thead th {\n",
              "        text-align: right;\n",
              "    }\n",
              "</style>\n",
              "<table border=\"1\" class=\"dataframe\">\n",
              "  <thead>\n",
              "    <tr style=\"text-align: right;\">\n",
              "      <th></th>\n",
              "      <th>fixed acidity</th>\n",
              "      <th>volatile acidity</th>\n",
              "      <th>citric acid</th>\n",
              "      <th>residual sugar</th>\n",
              "      <th>chlorides</th>\n",
              "      <th>free sulfur dioxide</th>\n",
              "      <th>total sulfur dioxide</th>\n",
              "      <th>density</th>\n",
              "      <th>pH</th>\n",
              "      <th>sulphates</th>\n",
              "      <th>alcohol</th>\n",
              "      <th>quality</th>\n",
              "    </tr>\n",
              "  </thead>\n",
              "  <tbody>\n",
              "    <tr>\n",
              "      <th>0</th>\n",
              "      <td>7.4</td>\n",
              "      <td>0.70</td>\n",
              "      <td>0.00</td>\n",
              "      <td>1.9</td>\n",
              "      <td>0.076</td>\n",
              "      <td>11.0</td>\n",
              "      <td>34.0</td>\n",
              "      <td>0.9978</td>\n",
              "      <td>3.51</td>\n",
              "      <td>0.56</td>\n",
              "      <td>9.4</td>\n",
              "      <td>5</td>\n",
              "    </tr>\n",
              "    <tr>\n",
              "      <th>1</th>\n",
              "      <td>7.8</td>\n",
              "      <td>0.88</td>\n",
              "      <td>0.00</td>\n",
              "      <td>2.6</td>\n",
              "      <td>0.098</td>\n",
              "      <td>25.0</td>\n",
              "      <td>67.0</td>\n",
              "      <td>0.9968</td>\n",
              "      <td>3.20</td>\n",
              "      <td>0.68</td>\n",
              "      <td>9.8</td>\n",
              "      <td>5</td>\n",
              "    </tr>\n",
              "    <tr>\n",
              "      <th>2</th>\n",
              "      <td>7.8</td>\n",
              "      <td>0.76</td>\n",
              "      <td>0.04</td>\n",
              "      <td>2.3</td>\n",
              "      <td>0.092</td>\n",
              "      <td>15.0</td>\n",
              "      <td>54.0</td>\n",
              "      <td>0.9970</td>\n",
              "      <td>3.26</td>\n",
              "      <td>0.65</td>\n",
              "      <td>9.8</td>\n",
              "      <td>5</td>\n",
              "    </tr>\n",
              "    <tr>\n",
              "      <th>3</th>\n",
              "      <td>11.2</td>\n",
              "      <td>0.28</td>\n",
              "      <td>0.56</td>\n",
              "      <td>1.9</td>\n",
              "      <td>0.075</td>\n",
              "      <td>17.0</td>\n",
              "      <td>60.0</td>\n",
              "      <td>0.9980</td>\n",
              "      <td>3.16</td>\n",
              "      <td>0.58</td>\n",
              "      <td>9.8</td>\n",
              "      <td>6</td>\n",
              "    </tr>\n",
              "    <tr>\n",
              "      <th>4</th>\n",
              "      <td>7.4</td>\n",
              "      <td>0.70</td>\n",
              "      <td>0.00</td>\n",
              "      <td>1.9</td>\n",
              "      <td>0.076</td>\n",
              "      <td>11.0</td>\n",
              "      <td>34.0</td>\n",
              "      <td>0.9978</td>\n",
              "      <td>3.51</td>\n",
              "      <td>0.56</td>\n",
              "      <td>9.4</td>\n",
              "      <td>5</td>\n",
              "    </tr>\n",
              "    <tr>\n",
              "      <th>5</th>\n",
              "      <td>7.4</td>\n",
              "      <td>0.66</td>\n",
              "      <td>0.00</td>\n",
              "      <td>1.8</td>\n",
              "      <td>0.075</td>\n",
              "      <td>13.0</td>\n",
              "      <td>40.0</td>\n",
              "      <td>0.9978</td>\n",
              "      <td>3.51</td>\n",
              "      <td>0.56</td>\n",
              "      <td>9.4</td>\n",
              "      <td>5</td>\n",
              "    </tr>\n",
              "    <tr>\n",
              "      <th>6</th>\n",
              "      <td>7.9</td>\n",
              "      <td>0.60</td>\n",
              "      <td>0.06</td>\n",
              "      <td>1.6</td>\n",
              "      <td>0.069</td>\n",
              "      <td>15.0</td>\n",
              "      <td>59.0</td>\n",
              "      <td>0.9964</td>\n",
              "      <td>3.30</td>\n",
              "      <td>0.46</td>\n",
              "      <td>9.4</td>\n",
              "      <td>5</td>\n",
              "    </tr>\n",
              "    <tr>\n",
              "      <th>7</th>\n",
              "      <td>7.3</td>\n",
              "      <td>0.65</td>\n",
              "      <td>0.00</td>\n",
              "      <td>1.2</td>\n",
              "      <td>0.065</td>\n",
              "      <td>15.0</td>\n",
              "      <td>21.0</td>\n",
              "      <td>0.9946</td>\n",
              "      <td>3.39</td>\n",
              "      <td>0.47</td>\n",
              "      <td>10.0</td>\n",
              "      <td>7</td>\n",
              "    </tr>\n",
              "    <tr>\n",
              "      <th>8</th>\n",
              "      <td>7.8</td>\n",
              "      <td>0.58</td>\n",
              "      <td>0.02</td>\n",
              "      <td>2.0</td>\n",
              "      <td>0.073</td>\n",
              "      <td>9.0</td>\n",
              "      <td>18.0</td>\n",
              "      <td>0.9968</td>\n",
              "      <td>3.36</td>\n",
              "      <td>0.57</td>\n",
              "      <td>9.5</td>\n",
              "      <td>7</td>\n",
              "    </tr>\n",
              "    <tr>\n",
              "      <th>9</th>\n",
              "      <td>7.5</td>\n",
              "      <td>0.50</td>\n",
              "      <td>0.36</td>\n",
              "      <td>6.1</td>\n",
              "      <td>0.071</td>\n",
              "      <td>17.0</td>\n",
              "      <td>102.0</td>\n",
              "      <td>0.9978</td>\n",
              "      <td>3.35</td>\n",
              "      <td>0.80</td>\n",
              "      <td>10.5</td>\n",
              "      <td>5</td>\n",
              "    </tr>\n",
              "  </tbody>\n",
              "</table>\n",
              "</div>"
            ],
            "text/plain": [
              "   fixed acidity  volatile acidity  citric acid  ...  sulphates  alcohol  quality\n",
              "0            7.4              0.70         0.00  ...       0.56      9.4        5\n",
              "1            7.8              0.88         0.00  ...       0.68      9.8        5\n",
              "2            7.8              0.76         0.04  ...       0.65      9.8        5\n",
              "3           11.2              0.28         0.56  ...       0.58      9.8        6\n",
              "4            7.4              0.70         0.00  ...       0.56      9.4        5\n",
              "5            7.4              0.66         0.00  ...       0.56      9.4        5\n",
              "6            7.9              0.60         0.06  ...       0.46      9.4        5\n",
              "7            7.3              0.65         0.00  ...       0.47     10.0        7\n",
              "8            7.8              0.58         0.02  ...       0.57      9.5        7\n",
              "9            7.5              0.50         0.36  ...       0.80     10.5        5\n",
              "\n",
              "[10 rows x 12 columns]"
            ]
          },
          "metadata": {
            "tags": []
          },
          "execution_count": 16
        }
      ]
    },
    {
      "cell_type": "markdown",
      "metadata": {
        "id": "j8TxKyhriTj5"
      },
      "source": [
        "第1〜11列はワインに含まれる成分の化学的な測定値で、第12列はワインの品質を表す。\n",
        "このデータを使い、第1〜11列を説明変数とし、第12列を目的変数として回帰分析を行えば、ワイン品質がどのような成分から決まるかが分かるだろう。\n",
        "\n",
        "データを説明変数$X$と目的変数$y$に分け、説明変数$X$については列ごとに標準化し、\n",
        "一定の値をとる列を加える。"
      ]
    },
    {
      "cell_type": "code",
      "metadata": {
        "id": "DiUSX1iLYEMJ"
      },
      "source": [
        "X = df.drop('quality', axis=1) # 第１２列を除去し説明変数とする\n",
        "X = (X - X.mean()) / X.std() # 標準化\n",
        "X = sm.add_constant(X) # 一定の値をとる列の追加\n",
        "y = df['quality'] # 目的変数"
      ],
      "execution_count": 18,
      "outputs": []
    },
    {
      "cell_type": "markdown",
      "metadata": {
        "id": "tmM-Kkl6jkgd"
      },
      "source": [
        "statsmodels ライブラリを使い、回帰分析を行う。"
      ]
    },
    {
      "cell_type": "code",
      "metadata": {
        "colab": {
          "base_uri": "https://localhost:8080/",
          "height": 653
        },
        "id": "9Sm9ZjWdYNSc",
        "outputId": "bdaf8e16-05bc-4b3e-9063-2c60371e96f8"
      },
      "source": [
        "regr = sm.OLS(y, X).fit() # 回帰係数の計算\n",
        "regr.summary() # 結果の表示"
      ],
      "execution_count": 19,
      "outputs": [
        {
          "output_type": "execute_result",
          "data": {
            "text/html": [
              "<table class=\"simpletable\">\n",
              "<caption>OLS Regression Results</caption>\n",
              "<tr>\n",
              "  <th>Dep. Variable:</th>         <td>quality</td>     <th>  R-squared:         </th> <td>   0.361</td> \n",
              "</tr>\n",
              "<tr>\n",
              "  <th>Model:</th>                   <td>OLS</td>       <th>  Adj. R-squared:    </th> <td>   0.356</td> \n",
              "</tr>\n",
              "<tr>\n",
              "  <th>Method:</th>             <td>Least Squares</td>  <th>  F-statistic:       </th> <td>   81.35</td> \n",
              "</tr>\n",
              "<tr>\n",
              "  <th>Date:</th>             <td>Wed, 27 Jan 2021</td> <th>  Prob (F-statistic):</th> <td>1.79e-145</td>\n",
              "</tr>\n",
              "<tr>\n",
              "  <th>Time:</th>                 <td>07:38:46</td>     <th>  Log-Likelihood:    </th> <td> -1569.1</td> \n",
              "</tr>\n",
              "<tr>\n",
              "  <th>No. Observations:</th>      <td>  1599</td>      <th>  AIC:               </th> <td>   3162.</td> \n",
              "</tr>\n",
              "<tr>\n",
              "  <th>Df Residuals:</th>          <td>  1587</td>      <th>  BIC:               </th> <td>   3227.</td> \n",
              "</tr>\n",
              "<tr>\n",
              "  <th>Df Model:</th>              <td>    11</td>      <th>                     </th>     <td> </td>    \n",
              "</tr>\n",
              "<tr>\n",
              "  <th>Covariance Type:</th>      <td>nonrobust</td>    <th>                     </th>     <td> </td>    \n",
              "</tr>\n",
              "</table>\n",
              "<table class=\"simpletable\">\n",
              "<tr>\n",
              "            <td></td>              <th>coef</th>     <th>std err</th>      <th>t</th>      <th>P>|t|</th>  <th>[0.025</th>    <th>0.975]</th>  \n",
              "</tr>\n",
              "<tr>\n",
              "  <th>const</th>                <td>    5.6360</td> <td>    0.016</td> <td>  347.788</td> <td> 0.000</td> <td>    5.604</td> <td>    5.668</td>\n",
              "</tr>\n",
              "<tr>\n",
              "  <th>fixed acidity</th>        <td>    0.0435</td> <td>    0.045</td> <td>    0.963</td> <td> 0.336</td> <td>   -0.045</td> <td>    0.132</td>\n",
              "</tr>\n",
              "<tr>\n",
              "  <th>volatile acidity</th>     <td>   -0.1940</td> <td>    0.022</td> <td>   -8.948</td> <td> 0.000</td> <td>   -0.237</td> <td>   -0.151</td>\n",
              "</tr>\n",
              "<tr>\n",
              "  <th>citric acid</th>          <td>   -0.0356</td> <td>    0.029</td> <td>   -1.240</td> <td> 0.215</td> <td>   -0.092</td> <td>    0.021</td>\n",
              "</tr>\n",
              "<tr>\n",
              "  <th>residual sugar</th>       <td>    0.0230</td> <td>    0.021</td> <td>    1.089</td> <td> 0.276</td> <td>   -0.018</td> <td>    0.065</td>\n",
              "</tr>\n",
              "<tr>\n",
              "  <th>chlorides</th>            <td>   -0.0882</td> <td>    0.020</td> <td>   -4.470</td> <td> 0.000</td> <td>   -0.127</td> <td>   -0.050</td>\n",
              "</tr>\n",
              "<tr>\n",
              "  <th>free sulfur dioxide</th>  <td>    0.0456</td> <td>    0.023</td> <td>    2.009</td> <td> 0.045</td> <td>    0.001</td> <td>    0.090</td>\n",
              "</tr>\n",
              "<tr>\n",
              "  <th>total sulfur dioxide</th> <td>   -0.1074</td> <td>    0.024</td> <td>   -4.480</td> <td> 0.000</td> <td>   -0.154</td> <td>   -0.060</td>\n",
              "</tr>\n",
              "<tr>\n",
              "  <th>density</th>              <td>   -0.0337</td> <td>    0.041</td> <td>   -0.827</td> <td> 0.409</td> <td>   -0.114</td> <td>    0.046</td>\n",
              "</tr>\n",
              "<tr>\n",
              "  <th>pH</th>                   <td>   -0.0639</td> <td>    0.030</td> <td>   -2.159</td> <td> 0.031</td> <td>   -0.122</td> <td>   -0.006</td>\n",
              "</tr>\n",
              "<tr>\n",
              "  <th>sulphates</th>            <td>    0.1553</td> <td>    0.019</td> <td>    8.014</td> <td> 0.000</td> <td>    0.117</td> <td>    0.193</td>\n",
              "</tr>\n",
              "<tr>\n",
              "  <th>alcohol</th>              <td>    0.2943</td> <td>    0.028</td> <td>   10.429</td> <td> 0.000</td> <td>    0.239</td> <td>    0.350</td>\n",
              "</tr>\n",
              "</table>\n",
              "<table class=\"simpletable\">\n",
              "<tr>\n",
              "  <th>Omnibus:</th>       <td>27.376</td> <th>  Durbin-Watson:     </th> <td>   1.757</td>\n",
              "</tr>\n",
              "<tr>\n",
              "  <th>Prob(Omnibus):</th> <td> 0.000</td> <th>  Jarque-Bera (JB):  </th> <td>  40.965</td>\n",
              "</tr>\n",
              "<tr>\n",
              "  <th>Skew:</th>          <td>-0.168</td> <th>  Prob(JB):          </th> <td>1.27e-09</td>\n",
              "</tr>\n",
              "<tr>\n",
              "  <th>Kurtosis:</th>      <td> 3.708</td> <th>  Cond. No.          </th> <td>    7.21</td>\n",
              "</tr>\n",
              "</table><br/><br/>Warnings:<br/>[1] Standard Errors assume that the covariance matrix of the errors is correctly specified."
            ],
            "text/plain": [
              "<class 'statsmodels.iolib.summary.Summary'>\n",
              "\"\"\"\n",
              "                            OLS Regression Results                            \n",
              "==============================================================================\n",
              "Dep. Variable:                quality   R-squared:                       0.361\n",
              "Model:                            OLS   Adj. R-squared:                  0.356\n",
              "Method:                 Least Squares   F-statistic:                     81.35\n",
              "Date:                Wed, 27 Jan 2021   Prob (F-statistic):          1.79e-145\n",
              "Time:                        07:38:46   Log-Likelihood:                -1569.1\n",
              "No. Observations:                1599   AIC:                             3162.\n",
              "Df Residuals:                    1587   BIC:                             3227.\n",
              "Df Model:                          11                                         \n",
              "Covariance Type:            nonrobust                                         \n",
              "========================================================================================\n",
              "                           coef    std err          t      P>|t|      [0.025      0.975]\n",
              "----------------------------------------------------------------------------------------\n",
              "const                    5.6360      0.016    347.788      0.000       5.604       5.668\n",
              "fixed acidity            0.0435      0.045      0.963      0.336      -0.045       0.132\n",
              "volatile acidity        -0.1940      0.022     -8.948      0.000      -0.237      -0.151\n",
              "citric acid             -0.0356      0.029     -1.240      0.215      -0.092       0.021\n",
              "residual sugar           0.0230      0.021      1.089      0.276      -0.018       0.065\n",
              "chlorides               -0.0882      0.020     -4.470      0.000      -0.127      -0.050\n",
              "free sulfur dioxide      0.0456      0.023      2.009      0.045       0.001       0.090\n",
              "total sulfur dioxide    -0.1074      0.024     -4.480      0.000      -0.154      -0.060\n",
              "density                 -0.0337      0.041     -0.827      0.409      -0.114       0.046\n",
              "pH                      -0.0639      0.030     -2.159      0.031      -0.122      -0.006\n",
              "sulphates                0.1553      0.019      8.014      0.000       0.117       0.193\n",
              "alcohol                  0.2943      0.028     10.429      0.000       0.239       0.350\n",
              "==============================================================================\n",
              "Omnibus:                       27.376   Durbin-Watson:                   1.757\n",
              "Prob(Omnibus):                  0.000   Jarque-Bera (JB):               40.965\n",
              "Skew:                          -0.168   Prob(JB):                     1.27e-09\n",
              "Kurtosis:                       3.708   Cond. No.                         7.21\n",
              "==============================================================================\n",
              "\n",
              "Warnings:\n",
              "[1] Standard Errors assume that the covariance matrix of the errors is correctly specified.\n",
              "\"\"\""
            ]
          },
          "metadata": {
            "tags": []
          },
          "execution_count": 19
        }
      ]
    },
    {
      "cell_type": "markdown",
      "metadata": {
        "id": "_Blybpstjpzy"
      },
      "source": [
        "（ここをダブルクリックして考察を書いて下さい）\n",
        "\n"
      ]
    },
    {
      "cell_type": "markdown",
      "metadata": {
        "id": "4i9ho0cTlrRn"
      },
      "source": [
        "## 3. 新型コロナ感染者数のデータにおける移動平均\n",
        "\n",
        "データファイル \"pcr_positive.csv\" を読み込み、最初の10行を表示する。"
      ]
    },
    {
      "cell_type": "code",
      "metadata": {
        "colab": {
          "base_uri": "https://localhost:8080/",
          "height": 348
        },
        "id": "5V6VH9UMXMCF",
        "outputId": "abe89c59-2112-425f-f982-36e28fdc4251"
      },
      "source": [
        "df = pd.read_csv('pcr_positive.csv') # 読み込み\n",
        "df.head(10) # 表示"
      ],
      "execution_count": 23,
      "outputs": [
        {
          "output_type": "execute_result",
          "data": {
            "text/html": [
              "<div>\n",
              "<style scoped>\n",
              "    .dataframe tbody tr th:only-of-type {\n",
              "        vertical-align: middle;\n",
              "    }\n",
              "\n",
              "    .dataframe tbody tr th {\n",
              "        vertical-align: top;\n",
              "    }\n",
              "\n",
              "    .dataframe thead th {\n",
              "        text-align: right;\n",
              "    }\n",
              "</style>\n",
              "<table border=\"1\" class=\"dataframe\">\n",
              "  <thead>\n",
              "    <tr style=\"text-align: right;\">\n",
              "      <th></th>\n",
              "      <th>Date</th>\n",
              "      <th>Positive</th>\n",
              "    </tr>\n",
              "  </thead>\n",
              "  <tbody>\n",
              "    <tr>\n",
              "      <th>0</th>\n",
              "      <td>2020/1/16</td>\n",
              "      <td>1</td>\n",
              "    </tr>\n",
              "    <tr>\n",
              "      <th>1</th>\n",
              "      <td>2020/1/17</td>\n",
              "      <td>0</td>\n",
              "    </tr>\n",
              "    <tr>\n",
              "      <th>2</th>\n",
              "      <td>2020/1/18</td>\n",
              "      <td>0</td>\n",
              "    </tr>\n",
              "    <tr>\n",
              "      <th>3</th>\n",
              "      <td>2020/1/19</td>\n",
              "      <td>0</td>\n",
              "    </tr>\n",
              "    <tr>\n",
              "      <th>4</th>\n",
              "      <td>2020/1/20</td>\n",
              "      <td>0</td>\n",
              "    </tr>\n",
              "    <tr>\n",
              "      <th>5</th>\n",
              "      <td>2020/1/21</td>\n",
              "      <td>0</td>\n",
              "    </tr>\n",
              "    <tr>\n",
              "      <th>6</th>\n",
              "      <td>2020/1/22</td>\n",
              "      <td>0</td>\n",
              "    </tr>\n",
              "    <tr>\n",
              "      <th>7</th>\n",
              "      <td>2020/1/23</td>\n",
              "      <td>0</td>\n",
              "    </tr>\n",
              "    <tr>\n",
              "      <th>8</th>\n",
              "      <td>2020/1/24</td>\n",
              "      <td>1</td>\n",
              "    </tr>\n",
              "    <tr>\n",
              "      <th>9</th>\n",
              "      <td>2020/1/25</td>\n",
              "      <td>1</td>\n",
              "    </tr>\n",
              "  </tbody>\n",
              "</table>\n",
              "</div>"
            ],
            "text/plain": [
              "        Date  Positive\n",
              "0  2020/1/16         1\n",
              "1  2020/1/17         0\n",
              "2  2020/1/18         0\n",
              "3  2020/1/19         0\n",
              "4  2020/1/20         0\n",
              "5  2020/1/21         0\n",
              "6  2020/1/22         0\n",
              "7  2020/1/23         0\n",
              "8  2020/1/24         1\n",
              "9  2020/1/25         1"
            ]
          },
          "metadata": {
            "tags": []
          },
          "execution_count": 23
        }
      ]
    },
    {
      "cell_type": "markdown",
      "metadata": {
        "id": "zaUZq1e7tV_F"
      },
      "source": [
        "時系列データを折れ線グラフとして描画する。"
      ]
    },
    {
      "cell_type": "code",
      "metadata": {
        "colab": {
          "base_uri": "https://localhost:8080/",
          "height": 352
        },
        "id": "B0CQ1QQcpJlO",
        "outputId": "f5947a67-da2b-4b07-e564-d9d31ddf29c7"
      },
      "source": [
        "df.plot(x='Date', y='Positive') # データを折れ線グラフとして描画 (横軸が\"Date\"列、縦軸が\"Positive Cases\"列)\n",
        "plt.xticks(rotation=45) # 横軸の目盛の数値を見やすいように傾ける"
      ],
      "execution_count": 24,
      "outputs": [
        {
          "output_type": "execute_result",
          "data": {
            "text/plain": [
              "(array([-50.,   0.,  50., 100., 150., 200., 250., 300., 350., 400.]),\n",
              " <a list of 10 Text major ticklabel objects>)"
            ]
          },
          "metadata": {
            "tags": []
          },
          "execution_count": 24
        },
        {
          "output_type": "display_data",
          "data": {
            "image/png": "[encoded data removed]",
            "text/plain": [
              "<Figure size 432x288 with 1 Axes>"
            ]
          },
          "metadata": {
            "tags": [],
            "needs_background": "light"
          }
        }
      ]
    },
    {
      "cell_type": "markdown",
      "metadata": {
        "id": "u2tz-gnDmLso"
      },
      "source": [
        "時系列データに7日間ごとの周期成分が含まれていることが分かる。この成分を移動平均により取り除く。新しく \"MA\" 列を作り、移動平均を行ったデータを代入する。"
      ]
    },
    {
      "cell_type": "code",
      "metadata": {
        "id": "dfWTOn8gmL9u"
      },
      "source": [
        "df['MA'] = df['Positive'].rolling(window=7).mean() # 7日間の幅で移動平均"
      ],
      "execution_count": 25,
      "outputs": []
    },
    {
      "cell_type": "markdown",
      "metadata": {
        "id": "XJGAzyePmM_g"
      },
      "source": [
        "移動平均後の時系列データを描画する。移動平均の処理により、ピークの位置や増減の傾向が分かりやすくなった。"
      ]
    },
    {
      "cell_type": "code",
      "metadata": {
        "colab": {
          "base_uri": "https://localhost:8080/",
          "height": 352
        },
        "id": "wJntQtmemNSG",
        "outputId": "0674bd55-af9e-4181-f0cd-1ac390e1ddbd"
      },
      "source": [
        "df.plot(x='Date', y='MA') # データを折れ線グラフとして描画 (横軸が\"Date\"列、縦軸が\"MA\"列)\n",
        "plt.xticks(rotation=45) # 横軸の目盛の数値を見やすいように傾ける"
      ],
      "execution_count": 26,
      "outputs": [
        {
          "output_type": "execute_result",
          "data": {
            "text/plain": [
              "(array([-50.,   0.,  50., 100., 150., 200., 250., 300., 350., 400.]),\n",
              " <a list of 10 Text major ticklabel objects>)"
            ]
          },
          "metadata": {
            "tags": []
          },
          "execution_count": 26
        },
        {
          "output_type": "display_data",
          "data": {
            "image/png": "[encoded data removed]",
            "text/plain": [
              "<Figure size 432x288 with 1 Axes>"
            ]
          },
          "metadata": {
            "tags": [],
            "needs_background": "light"
          }
        }
      ]
    }
  ]
}